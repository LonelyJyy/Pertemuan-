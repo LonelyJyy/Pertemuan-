{
  "nbformat": 4,
  "nbformat_minor": 0,
  "metadata": {
    "colab": {
      "provenance": [],
      "authorship_tag": "ABX9TyPHduB9iMjhEqY1fLwvkGj8",
      "include_colab_link": true
    },
    "kernelspec": {
      "name": "python3",
      "display_name": "Python 3"
    },
    "language_info": {
      "name": "python"
    }
  },
  "cells": [
    {
      "cell_type": "markdown",
      "metadata": {
        "id": "view-in-github",
        "colab_type": "text"
      },
      "source": [
        "<a href=\"https://colab.research.google.com/github/LonelyJyy/Pertemuan-/blob/main/Pertemuan3.ipynb\" target=\"_parent\"><img src=\"https://colab.research.google.com/assets/colab-badge.svg\" alt=\"Open In Colab\"/></a>"
      ]
    },
    {
      "cell_type": "code",
      "execution_count": 2,
      "metadata": {
        "colab": {
          "base_uri": "https://localhost:8080/"
        },
        "id": "-HOp4ruOmTO9",
        "outputId": "7808a2da-85bc-43b3-e84c-a32a61fcec68"
      },
      "outputs": [
        {
          "output_type": "stream",
          "name": "stdout",
          "text": [
            "Greedy Best First Search Path: S -> B -> C -> G\n"
          ]
        }
      ],
      "source": [
        "from queue import PriorityQueue\n",
        "\n",
        "def greedy_best_first_search(graph, heuristic, start, goal):\n",
        "    frontier = PriorityQueue()\n",
        "    frontier.put((heuristic[start], start))\n",
        "    came_from = {}\n",
        "\n",
        "    while not frontier.empty():\n",
        "        _, current = frontier.get()\n",
        "\n",
        "        if current == goal:\n",
        "            return reconstruct_path(came_from, start, goal)\n",
        "\n",
        "        for neighbor, cost in graph[current]:\n",
        "            if neighbor not in came_from:\n",
        "                frontier.put((heuristic[neighbor], neighbor))\n",
        "                came_from[neighbor] = current\n",
        "\n",
        "    return None\n",
        "\n",
        "def reconstruct_path(came_from, start, goal):\n",
        "    path = []\n",
        "    current = goal\n",
        "    while current != start:\n",
        "        path.append(current)\n",
        "        current = came_from[current]\n",
        "    path.append(start)\n",
        "    path.reverse()\n",
        "    return path\n",
        "\n",
        "# Graph berdasarkan gambar (berisi (tetangga, bobot))\n",
        "graph = {\n",
        "    'S': [('A', 5), ('B', 2)],\n",
        "    'A': [('D', 3)],\n",
        "    'B': [('A', 1), ('C', 3)],\n",
        "    'C': [('D', 3), ('G', 4)],\n",
        "    'D': [('G', 2)],\n",
        "    'G': []\n",
        "}\n",
        "\n",
        "# Nilai heuristik dari gambar\n",
        "heuristic = {\n",
        "    'S': 6,\n",
        "    'A': 4,\n",
        "    'B': 3,\n",
        "    'C': 3,\n",
        "    'D': 1,\n",
        "    'G': 0\n",
        "}\n",
        "\n",
        "start_node = 'S'\n",
        "goal_node = 'G'\n",
        "\n",
        "# Jalankan Greedy Best First Search\n",
        "gbfs_path = greedy_best_first_search(graph, heuristic, start_node, goal_node)\n",
        "print(\"Greedy Best First Search Path:\", \" -> \".join(gbfs_path))\n"
      ]
    },
    {
      "cell_type": "code",
      "source": [
        "def a_star_search(graph, heuristic, start, goal):\n",
        "    frontier = PriorityQueue()\n",
        "    frontier.put((0 + heuristic[start], 0, start))\n",
        "    came_from = {}\n",
        "    cost_so_far = {start: 0}\n",
        "\n",
        "    while not frontier.empty():\n",
        "        _, cost, current = frontier.get()\n",
        "\n",
        "        if current == goal:\n",
        "            return reconstruct_path(came_from, start, goal)\n",
        "\n",
        "        for neighbor, edge_cost in graph[current]:\n",
        "            new_cost = cost + edge_cost\n",
        "            if neighbor not in cost_so_far or new_cost < cost_so_far[neighbor]:\n",
        "                cost_so_far[neighbor] = new_cost\n",
        "                priority = new_cost + heuristic[neighbor]\n",
        "                frontier.put((priority, new_cost, neighbor))\n",
        "                came_from[neighbor] = current\n",
        "\n",
        "    return None\n",
        "\n",
        "# Jalankan A* Search\n",
        "a_star_path = a_star_search(graph, heuristic, start_node, goal_node)\n",
        "print(\"A* Search Path:\", \" -> \".join(a_star_path))\n"
      ],
      "metadata": {
        "id": "7FGCmmgzqpZi",
        "colab": {
          "base_uri": "https://localhost:8080/"
        },
        "outputId": "0f39e177-05cd-482d-ee8d-031e15bf7d49"
      },
      "execution_count": 3,
      "outputs": [
        {
          "output_type": "stream",
          "name": "stdout",
          "text": [
            "A* Search Path: S -> B -> A -> D -> G\n"
          ]
        }
      ]
    }
  ]
}